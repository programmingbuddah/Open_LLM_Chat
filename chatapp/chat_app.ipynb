{
 "cells": [
  {
   "cell_type": "code",
   "execution_count": 1,
   "metadata": {},
   "outputs": [
    {
     "data": {
      "text/plain": [
       "True"
      ]
     },
     "execution_count": 1,
     "metadata": {},
     "output_type": "execute_result"
    }
   ],
   "source": [
    "from dotenv import load_dotenv\n",
    "\n",
    "load_dotenv()"
   ]
  },
  {
   "cell_type": "code",
   "execution_count": 2,
   "metadata": {},
   "outputs": [],
   "source": [
    "import requests\n",
    "\n",
    "url = \"https://raw.githubusercontent.com/hwchase17/langchain/master/docs/modules/state_of_the_union.txt\"\n",
    "res = requests.get(url)\n",
    "with open(\"state_of_the_union.txt\", \"w\") as f:\n",
    "  f.write(res.text)"
   ]
  },
  {
   "cell_type": "code",
   "execution_count": 3,
   "metadata": {},
   "outputs": [],
   "source": [
    "from langchain.document_loaders import TextLoader\n",
    "loader = TextLoader('./state_of_the_union.txt')\n",
    "documents = loader.load()"
   ]
  },
  {
   "cell_type": "code",
   "execution_count": 4,
   "metadata": {},
   "outputs": [],
   "source": [
    "import textwrap\n",
    "\n",
    "def wrap_text_preserve_newlines(text, width=110):\n",
    "    # Split the input text into lines based on newline characters\n",
    "    lines = text.split('\\n')\n",
    "\n",
    "    # Wrap each line individually\n",
    "    wrapped_lines = [textwrap.fill(line, width=width) for line in lines]\n",
    "\n",
    "    # Join the wrapped lines back together using newline characters\n",
    "    wrapped_text = '\\n'.join(wrapped_lines)\n",
    "\n",
    "    return wrapped_text"
   ]
  },
  {
   "cell_type": "code",
   "execution_count": 5,
   "metadata": {},
   "outputs": [],
   "source": [
    "from langchain.text_splitter import CharacterTextSplitter\n",
    "text_splitter = CharacterTextSplitter(chunk_size=1000, chunk_overlap=0)\n",
    "docs = text_splitter.split_documents(documents)"
   ]
  },
  {
   "cell_type": "code",
   "execution_count": 6,
   "metadata": {},
   "outputs": [],
   "source": [
    "from langchain.embeddings import HuggingFaceEmbeddings\n",
    "\n",
    "embeddings = HuggingFaceEmbeddings()"
   ]
  },
  {
   "cell_type": "code",
   "execution_count": 7,
   "metadata": {},
   "outputs": [],
   "source": [
    "from langchain.vectorstores import FAISS\n",
    "\n",
    "db = FAISS.from_documents(docs, embeddings)\n"
   ]
  },
  {
   "cell_type": "code",
   "execution_count": 8,
   "metadata": {},
   "outputs": [],
   "source": [
    "query = \"Who is Juniper?\"\n",
    "docs = db.similarity_search(query)"
   ]
  },
  {
   "cell_type": "code",
   "execution_count": 9,
   "metadata": {},
   "outputs": [
    {
     "name": "stdout",
     "output_type": "stream",
     "text": [
      "A former top litigator in private practice. A former federal public defender. And from a family of public\n",
      "school educators and police officers. A consensus builder. Since she’s been nominated, she’s received a broad\n",
      "range of support—from the Fraternal Order of Police to former judges appointed by Democrats and Republicans.\n",
      "\n",
      "And if we are to advance liberty and justice, we need to secure the Border and fix the immigration system.\n",
      "\n",
      "We can do both. At our border, we’ve installed new technology like cutting-edge scanners to better detect drug\n",
      "smuggling.\n",
      "\n",
      "We’ve set up joint patrols with Mexico and Guatemala to catch more human traffickers.\n",
      "\n",
      "We’re putting in place dedicated immigration judges so families fleeing persecution and violence can have\n",
      "their cases heard faster.\n",
      "\n",
      "We’re securing commitments and supporting partners in South and Central America to host more refugees and\n",
      "secure their own borders.\n"
     ]
    }
   ],
   "source": [
    "print(wrap_text_preserve_newlines(str(docs[0].page_content)))"
   ]
  },
  {
   "cell_type": "code",
   "execution_count": 10,
   "metadata": {},
   "outputs": [],
   "source": [
    "def query_formatter(docs, query):\n",
    "    return f\"\"\" Use only below 'Context' and find the answer to the 'Question'. Be precise and to the point while answering.\n",
    "    'Context: {docs}'\n",
    "    'Question: {query}'\"\"\""
   ]
  },
  {
   "cell_type": "code",
   "execution_count": 11,
   "metadata": {},
   "outputs": [
    {
     "data": {
      "text/plain": [
       "\" Use only below 'Context' and find the answer to the 'Question'. Be precise and to the point while answering.\\n    'Context: [Document(page_content='A former top litigator in private practice. A former federal public defender. And from a family of public school educators and police officers. A consensus builder. Since she’s been nominated, she’s received a broad range of support—from the Fraternal Order of Police to former judges appointed by Democrats and Republicans. \\\\n\\\\nAnd if we are to advance liberty and justice, we need to secure the Border and fix the immigration system. \\\\n\\\\nWe can do both. At our border, we’ve installed new technology like cutting-edge scanners to better detect drug smuggling.  \\\\n\\\\nWe’ve set up joint patrols with Mexico and Guatemala to catch more human traffickers.  \\\\n\\\\nWe’re putting in place dedicated immigration judges so families fleeing persecution and violence can have their cases heard faster. \\\\n\\\\nWe’re securing commitments and supporting partners in South and Central America to host more refugees and secure their own borders.', metadata={'source': './state_of_the_union.txt'}), Document(page_content='Tonight. I call on the Senate to: Pass the Freedom to Vote Act. Pass the John Lewis Voting Rights Act. And while you’re at it, pass the Disclose Act so Americans can know who is funding our elections. \\\\n\\\\nTonight, I’d like to honor someone who has dedicated his life to serve this country: Justice Stephen Breyer—an Army veteran, Constitutional scholar, and retiring Justice of the United States Supreme Court. Justice Breyer, thank you for your service. \\\\n\\\\nOne of the most serious constitutional responsibilities a President has is nominating someone to serve on the United States Supreme Court. \\\\n\\\\nAnd I did that 4 days ago, when I nominated Circuit Court of Appeals Judge Ketanji Brown Jackson. One of our nation’s top legal minds, who will continue Justice Breyer’s legacy of excellence.', metadata={'source': './state_of_the_union.txt'}), Document(page_content='Vice President Harris and I ran for office with a new economic vision for America. \\\\n\\\\nInvest in America. Educate Americans. Grow the workforce. Build the economy from the bottom up  \\\\nand the middle out, not from the top down.  \\\\n\\\\nBecause we know that when the middle class grows, the poor have a ladder up and the wealthy do very well. \\\\n\\\\nAmerica used to have the best roads, bridges, and airports on Earth. \\\\n\\\\nNow our infrastructure is ranked 13th in the world. \\\\n\\\\nWe won’t be able to compete for the jobs of the 21st Century if we don’t fix that. \\\\n\\\\nThat’s why it was so important to pass the Bipartisan Infrastructure Law—the most sweeping investment to rebuild America in history. \\\\n\\\\nThis was a bipartisan effort, and I want to thank the members of both parties who worked to make it happen. \\\\n\\\\nWe’re done talking about infrastructure weeks. \\\\n\\\\nWe’re going to have an infrastructure decade.', metadata={'source': './state_of_the_union.txt'}), Document(page_content='If you travel 20 miles east of Columbus, Ohio, you’ll find 1,000 empty acres of land. \\\\n\\\\nIt won’t look like much, but if you stop and look closely, you’ll see a “Field of dreams,” the ground on which America’s future will be built. \\\\n\\\\nThis is where Intel, the American company that helped build Silicon Valley, is going to build its $20 billion semiconductor “mega site”. \\\\n\\\\nUp to eight state-of-the-art factories in one place. 10,000 new good-paying jobs. \\\\n\\\\nSome of the most sophisticated manufacturing in the world to make computer chips the size of a fingertip that power the world and our everyday lives. \\\\n\\\\nSmartphones. The Internet. Technology we have yet to invent. \\\\n\\\\nBut that’s just the beginning. \\\\n\\\\nIntel’s CEO, Pat Gelsinger, who is here tonight, told me they are ready to increase their investment from  \\\\n$20 billion to $100 billion. \\\\n\\\\nThat would be one of the biggest investments in manufacturing in American history. \\\\n\\\\nAnd all they’re waiting for is for you to pass this bill.', metadata={'source': './state_of_the_union.txt'})]'\\n    'Question: Who is Juniper?'\""
      ]
     },
     "execution_count": 11,
     "metadata": {},
     "output_type": "execute_result"
    }
   ],
   "source": [
    "query_formatter(docs=docs, query=query)"
   ]
  },
  {
   "cell_type": "code",
   "execution_count": 12,
   "metadata": {},
   "outputs": [],
   "source": [
    "import requests\n",
    "import time\n",
    "\n",
    "url = 'https://www.quora.com/poe_api/gql_POST'\n",
    "\n",
    "headers = {\n",
    "    'Host': 'www.quora.com',\n",
    "    'Accept': '*/*',\n",
    "    'apollographql-client-version': '1.1.6-65',\n",
    "    'Accept-Language': 'en-US,en;q=0.9',\n",
    "    'User-Agent': 'Poe 1.1.6 rv:65 env:prod (iPhone14,2; iOS 16.2; en_US)',\n",
    "    'apollographql-client-name': 'com.quora.app.Experts-apollo-ios',\n",
    "    'Connection': 'keep-alive',\n",
    "    'Content-Type': 'application/json',\n",
    "}\n",
    "\n",
    "def set_auth(key, value):\n",
    "    headers[key] = value\n",
    "\n",
    "def load_chat_id_map(bot=\"a2\"):\n",
    "    data = {\n",
    "        'operationName': 'ChatViewQuery',\n",
    "        'query': 'query ChatViewQuery($bot: String!) {\\n  chatOfBot(bot: $bot) {\\n    __typename\\n    ...ChatFragment\\n  }\\n}\\nfragment ChatFragment on Chat {\\n  __typename\\n  id\\n  chatId\\n  defaultBotNickname\\n  shouldShowDisclaimer\\n}',\n",
    "        'variables': {\n",
    "            'bot': bot\n",
    "        }\n",
    "    }    \n",
    "    response = requests.post(url, headers=headers, json=data)\n",
    "    return response.json()['data']['chatOfBot']['chatId']\n",
    "\n",
    "def send_message(message,bot=\"a2\",chat_id=\"\"):\n",
    "    data = {\n",
    "    \"operationName\": \"AddHumanMessageMutation\",\n",
    "    \"query\": \"mutation AddHumanMessageMutation($chatId: BigInt!, $bot: String!, $query: String!, $source: MessageSource, $withChatBreak: Boolean! = false) {\\n  messageCreate(\\n    chatId: $chatId\\n    bot: $bot\\n    query: $query\\n    source: $source\\n    withChatBreak: $withChatBreak\\n  ) {\\n    __typename\\n    message {\\n      __typename\\n      ...MessageFragment\\n      chat {\\n        __typename\\n        id\\n        shouldShowDisclaimer\\n      }\\n    }\\n    chatBreak {\\n      __typename\\n      ...MessageFragment\\n    }\\n  }\\n}\\nfragment MessageFragment on Message {\\n  id\\n  __typename\\n  messageId\\n  text\\n  linkifiedText\\n  authorNickname\\n  state\\n  vote\\n  voteReason\\n  creationTime\\n  suggestedReplies\\n}\",\n",
    "    \"variables\": {\n",
    "        \"bot\": bot,\n",
    "        \"chatId\": chat_id,\n",
    "        \"query\": message,\n",
    "        \"source\": None,\n",
    "        \"withChatBreak\": False\n",
    "    }\n",
    "}\n",
    "    _ = requests.post(url, headers=headers, json=data)\n",
    "\n",
    "def clear_context(chatid):\n",
    "    data = {\n",
    "        \"operationName\": \"AddMessageBreakMutation\",\n",
    "        \"query\": \"mutation AddMessageBreakMutation($chatId: BigInt!) {\\n  messageBreakCreate(chatId: $chatId) {\\n    __typename\\n    message {\\n      __typename\\n      ...MessageFragment\\n    }\\n  }\\n}\\nfragment MessageFragment on Message {\\n  id\\n  __typename\\n  messageId\\n  text\\n  linkifiedText\\n  authorNickname\\n  state\\n  vote\\n  voteReason\\n  creationTime\\n  suggestedReplies\\n}\",\n",
    "        \"variables\": {\n",
    "            \"chatId\": chatid\n",
    "        }\n",
    "    }    \n",
    "    _ = requests.post(url, headers=headers, json=data)\n",
    "\n",
    "def get_latest_message(bot):\n",
    "    data = {\n",
    "        \"operationName\": \"ChatPaginationQuery\",\n",
    "        \"query\": \"query ChatPaginationQuery($bot: String!, $before: String, $last: Int! = 10) {\\n  chatOfBot(bot: $bot) {\\n    id\\n    __typename\\n    messagesConnection(before: $before, last: $last) {\\n      __typename\\n      pageInfo {\\n        __typename\\n        hasPreviousPage\\n      }\\n      edges {\\n        __typename\\n        node {\\n          __typename\\n          ...MessageFragment\\n        }\\n      }\\n    }\\n  }\\n}\\nfragment MessageFragment on Message {\\n  id\\n  __typename\\n  messageId\\n  text\\n  linkifiedText\\n  authorNickname\\n  state\\n  vote\\n  voteReason\\n  creationTime\\n}\",\n",
    "        \"variables\": {\n",
    "            \"before\": None,\n",
    "            \"bot\": bot,\n",
    "            \"last\": 1\n",
    "        }\n",
    "    } \n",
    "    author_nickname = \"\"\n",
    "    state = \"incomplete\"\n",
    "    while True:\n",
    "        time.sleep(2)\n",
    "        response = requests.post(url, headers=headers, json=data)\n",
    "        response_json = response.json()\n",
    "        text = response_json['data']['chatOfBot']['messagesConnection']['edges'][-1]['node']['text']\n",
    "        state = response_json['data']['chatOfBot']['messagesConnection']['edges'][-1]['node']['state']\n",
    "        author_nickname = response_json['data']['chatOfBot']['messagesConnection']['edges'][-1]['node']['authorNickname']\n",
    "        if author_nickname==bot and state=='complete':\n",
    "            break\n",
    "    return text\n"
   ]
  },
  {
   "cell_type": "code",
   "execution_count": 13,
   "metadata": {},
   "outputs": [
    {
     "name": "stdout",
     "output_type": "stream",
     "text": [
      "The selected bot is :  capybara\n",
      "Context is now cleared\n",
      "capybara : There is no information or mention about anyone named Juniper in the given context.\n"
     ]
    }
   ],
   "source": [
    "#from POE import load_chat_id_map, clear_context, send_message, get_latest_message, set_auth\n",
    "\n",
    "#Auth\n",
    "set_auth('Quora-Formkey','f72407929b50a310a71f0bfab73594cc')\n",
    "set_auth('Cookie','m-b=fo4BP-aQf5SXPYGN7sDb3A==')\n",
    "#---------------------------------------------------------------------------\n",
    "# print(\"Who do you want to talk to?\")\n",
    "# print(\"1. Sage - OpenAI (capybara)\")\n",
    "# print(\"2. GPT-4 - OpenAI (beaver)\")\n",
    "# print(\"3. Claude+ - Anthropic (a2_2)\")\n",
    "# print(\"4. Claude - Anthropic (a2)\")\n",
    "# print(\"5. ChatGPT - OpenAI (chinchilla)\")\n",
    "# print(\"6. Dragonfly - OpenAI (nutria)\")\n",
    "#---------------------------------------------------------------------------\n",
    "# option = input(\"Please enter your choice : \")\n",
    "bots = {1:'capybara', 2:'beaver', 3:'a2_2', 4:'a2', 5:'chinchilla', 6:'nutria'}\n",
    "bot = bots[int(1)]\n",
    "print(\"The selected bot is : \", bot)\n",
    "#---------------------------------------------------------------------------\n",
    "chat_id = load_chat_id_map(bot)\n",
    "clear_context(chat_id)\n",
    "print(\"Context is now cleared\")\n",
    "\n",
    "message = query_formatter(docs=docs, query=query)\n",
    "send_message(message,bot,chat_id)\n",
    "reply = get_latest_message(bot)\n",
    "print(f\"{bot} : {reply}\")\n",
    "\n",
    "# while True:\n",
    "#     message = input(\"Human : \")\n",
    "#     if message ==\"!clear\":\n",
    "#         clear_context(chat_id)\n",
    "#         print(\"Context is now cleared\")\n",
    "#         continue\n",
    "#     if message ==\"!break\":\n",
    "#         break\n",
    "#     send_message(message,bot,chat_id)\n",
    "#     reply = get_latest_message(bot)\n",
    "#     print(f\"{bot} : {reply}\")"
   ]
  }
 ],
 "metadata": {
  "kernelspec": {
   "display_name": "Python 3",
   "language": "python",
   "name": "python3"
  },
  "language_info": {
   "codemirror_mode": {
    "name": "ipython",
    "version": 3
   },
   "file_extension": ".py",
   "mimetype": "text/x-python",
   "name": "python",
   "nbconvert_exporter": "python",
   "pygments_lexer": "ipython3",
   "version": "3.10.4"
  },
  "orig_nbformat": 4
 },
 "nbformat": 4,
 "nbformat_minor": 2
}
