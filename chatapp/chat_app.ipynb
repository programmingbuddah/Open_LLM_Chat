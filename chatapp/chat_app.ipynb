{
 "cells": [
  {
   "cell_type": "code",
   "execution_count": 2,
   "metadata": {},
   "outputs": [
    {
     "data": {
      "text/plain": [
       "True"
      ]
     },
     "execution_count": 2,
     "metadata": {},
     "output_type": "execute_result"
    }
   ],
   "source": [
    "from dotenv import load_dotenv\n",
    "\n",
    "load_dotenv()"
   ]
  },
  {
   "cell_type": "code",
   "execution_count": 3,
   "metadata": {},
   "outputs": [],
   "source": [
    "import requests\n",
    "\n",
    "url = \"https://raw.githubusercontent.com/hwchase17/langchain/master/docs/modules/state_of_the_union.txt\"\n",
    "res = requests.get(url)\n",
    "with open(\"state_of_the_union.txt\", \"w\") as f:\n",
    "  f.write(res.text)"
   ]
  },
  {
   "cell_type": "code",
   "execution_count": 29,
   "metadata": {},
   "outputs": [],
   "source": [
    "from langchain.document_loaders import TextLoader\n",
    "loader = TextLoader('./state_of_the_union.txt')\n",
    "documents = loader.load()"
   ]
  },
  {
   "cell_type": "code",
   "execution_count": 30,
   "metadata": {},
   "outputs": [],
   "source": [
    "import textwrap\n",
    "\n",
    "def wrap_text_preserve_newlines(text, width=110):\n",
    "    # Split the input text into lines based on newline characters\n",
    "    lines = text.split('\\n')\n",
    "\n",
    "    # Wrap each line individually\n",
    "    wrapped_lines = [textwrap.fill(line, width=width) for line in lines]\n",
    "\n",
    "    # Join the wrapped lines back together using newline characters\n",
    "    wrapped_text = '\\n'.join(wrapped_lines)\n",
    "\n",
    "    return wrapped_text"
   ]
  },
  {
   "cell_type": "code",
   "execution_count": 31,
   "metadata": {},
   "outputs": [],
   "source": [
    "from langchain.text_splitter import CharacterTextSplitter\n",
    "text_splitter = CharacterTextSplitter(chunk_size=1000, chunk_overlap=0)\n",
    "docs = text_splitter.split_documents(documents)"
   ]
  },
  {
   "cell_type": "code",
   "execution_count": 9,
   "metadata": {},
   "outputs": [
    {
     "data": {
      "application/vnd.jupyter.widget-view+json": {
       "model_id": "3271ac876fb6458d8d7602100a50ed4f",
       "version_major": 2,
       "version_minor": 0
      },
      "text/plain": [
       "Downloading (…)a8e1d/.gitattributes:   0%|          | 0.00/1.18k [00:00<?, ?B/s]"
      ]
     },
     "metadata": {},
     "output_type": "display_data"
    },
    {
     "data": {
      "application/vnd.jupyter.widget-view+json": {
       "model_id": "73495c965ed4445e9abbd2deb5d08951",
       "version_major": 2,
       "version_minor": 0
      },
      "text/plain": [
       "Downloading (…)_Pooling/config.json:   0%|          | 0.00/190 [00:00<?, ?B/s]"
      ]
     },
     "metadata": {},
     "output_type": "display_data"
    },
    {
     "data": {
      "application/vnd.jupyter.widget-view+json": {
       "model_id": "9850cb20a7d84f788208fca24374b98c",
       "version_major": 2,
       "version_minor": 0
      },
      "text/plain": [
       "Downloading (…)b20bca8e1d/README.md:   0%|          | 0.00/10.6k [00:00<?, ?B/s]"
      ]
     },
     "metadata": {},
     "output_type": "display_data"
    },
    {
     "data": {
      "application/vnd.jupyter.widget-view+json": {
       "model_id": "16f276427b8943c68e003c88ec9cf767",
       "version_major": 2,
       "version_minor": 0
      },
      "text/plain": [
       "Downloading (…)0bca8e1d/config.json:   0%|          | 0.00/571 [00:00<?, ?B/s]"
      ]
     },
     "metadata": {},
     "output_type": "display_data"
    },
    {
     "data": {
      "application/vnd.jupyter.widget-view+json": {
       "model_id": "523296a186524f1b89d3e1dec17459f2",
       "version_major": 2,
       "version_minor": 0
      },
      "text/plain": [
       "Downloading (…)ce_transformers.json:   0%|          | 0.00/116 [00:00<?, ?B/s]"
      ]
     },
     "metadata": {},
     "output_type": "display_data"
    },
    {
     "data": {
      "application/vnd.jupyter.widget-view+json": {
       "model_id": "4522ceecc8cc4cd89bdf06ef8775a7b9",
       "version_major": 2,
       "version_minor": 0
      },
      "text/plain": [
       "Downloading (…)e1d/data_config.json:   0%|          | 0.00/39.3k [00:00<?, ?B/s]"
      ]
     },
     "metadata": {},
     "output_type": "display_data"
    },
    {
     "data": {
      "application/vnd.jupyter.widget-view+json": {
       "model_id": "5c98dbd25739455c87510224ba01ac99",
       "version_major": 2,
       "version_minor": 0
      },
      "text/plain": [
       "Downloading pytorch_model.bin:   0%|          | 0.00/438M [00:00<?, ?B/s]"
      ]
     },
     "metadata": {},
     "output_type": "display_data"
    },
    {
     "data": {
      "application/vnd.jupyter.widget-view+json": {
       "model_id": "85daef15c7ca445f8b91455cf913a5d3",
       "version_major": 2,
       "version_minor": 0
      },
      "text/plain": [
       "Downloading (…)nce_bert_config.json:   0%|          | 0.00/53.0 [00:00<?, ?B/s]"
      ]
     },
     "metadata": {},
     "output_type": "display_data"
    },
    {
     "data": {
      "application/vnd.jupyter.widget-view+json": {
       "model_id": "085751d38cf74affadb881febb6352f1",
       "version_major": 2,
       "version_minor": 0
      },
      "text/plain": [
       "Downloading (…)cial_tokens_map.json:   0%|          | 0.00/239 [00:00<?, ?B/s]"
      ]
     },
     "metadata": {},
     "output_type": "display_data"
    },
    {
     "data": {
      "application/vnd.jupyter.widget-view+json": {
       "model_id": "ba70e8560fd749099902a5df0a21bc06",
       "version_major": 2,
       "version_minor": 0
      },
      "text/plain": [
       "Downloading (…)a8e1d/tokenizer.json:   0%|          | 0.00/466k [00:00<?, ?B/s]"
      ]
     },
     "metadata": {},
     "output_type": "display_data"
    },
    {
     "data": {
      "application/vnd.jupyter.widget-view+json": {
       "model_id": "7a7e77890f03419b879fdc7a2857c35f",
       "version_major": 2,
       "version_minor": 0
      },
      "text/plain": [
       "Downloading (…)okenizer_config.json:   0%|          | 0.00/363 [00:00<?, ?B/s]"
      ]
     },
     "metadata": {},
     "output_type": "display_data"
    },
    {
     "data": {
      "application/vnd.jupyter.widget-view+json": {
       "model_id": "8e0aa5296a394d03abbb3eb39b8fa8e7",
       "version_major": 2,
       "version_minor": 0
      },
      "text/plain": [
       "Downloading (…)8e1d/train_script.py:   0%|          | 0.00/13.1k [00:00<?, ?B/s]"
      ]
     },
     "metadata": {},
     "output_type": "display_data"
    },
    {
     "data": {
      "application/vnd.jupyter.widget-view+json": {
       "model_id": "d6867005002c481a952e7a8510d88e82",
       "version_major": 2,
       "version_minor": 0
      },
      "text/plain": [
       "Downloading (…)b20bca8e1d/vocab.txt:   0%|          | 0.00/232k [00:00<?, ?B/s]"
      ]
     },
     "metadata": {},
     "output_type": "display_data"
    },
    {
     "data": {
      "application/vnd.jupyter.widget-view+json": {
       "model_id": "b1f02942668e4c90a282beace2d5dfc7",
       "version_major": 2,
       "version_minor": 0
      },
      "text/plain": [
       "Downloading (…)bca8e1d/modules.json:   0%|          | 0.00/349 [00:00<?, ?B/s]"
      ]
     },
     "metadata": {},
     "output_type": "display_data"
    }
   ],
   "source": [
    "from langchain.embeddings import HuggingFaceEmbeddings\n",
    "\n",
    "embeddings = HuggingFaceEmbeddings()"
   ]
  },
  {
   "cell_type": "code",
   "execution_count": 32,
   "metadata": {},
   "outputs": [],
   "source": [
    "from langchain.vectorstores import FAISS\n",
    "\n",
    "db = FAISS.from_documents(docs, embeddings)\n"
   ]
  },
  {
   "cell_type": "code",
   "execution_count": 37,
   "metadata": {},
   "outputs": [],
   "source": [
    "query = \"Who is Juniper?\"\n",
    "docs = db.similarity_search(query)"
   ]
  },
  {
   "cell_type": "code",
   "execution_count": 39,
   "metadata": {},
   "outputs": [
    {
     "name": "stdout",
     "output_type": "stream",
     "text": [
      "One day, while traveling through time, Juniper and her team stumbled upon a shocking discovery. They had been\n",
      "traveling through a fabricated reality created by an unknown entity. The reality they had known for so long\n",
      "was nothing more than a simulation.\n",
      "\n",
      "This revelation shook Juniper and her team to the core. They had been living in a world of lies and deceit,\n",
      "but they refused to give up. They continued their journey through time, hoping to find a way to break free of\n",
      "the simulation and restore reality to its true form.\n",
      "\n",
      "As they traveled further back in time, they discovered something even more disturbing. The entity that had\n",
      "created the simulation was none other than a future version of Juniper herself. She had traveled back in time\n",
      "to create the simulation and change the course of history.\n"
     ]
    }
   ],
   "source": [
    "print(wrap_text_preserve_newlines(str(docs[0].page_content)))"
   ]
  },
  {
   "cell_type": "code",
   "execution_count": 40,
   "metadata": {},
   "outputs": [],
   "source": [
    "def query_formatter(docs, query):\n",
    "    return f\"\"\" Use only below 'Context' and find the answer to the 'Question'. Be precise and to the point while answering.\n",
    "    'Context: {docs}'\n",
    "    'Question: {query}'\"\"\""
   ]
  },
  {
   "cell_type": "code",
   "execution_count": 41,
   "metadata": {},
   "outputs": [
    {
     "data": {
      "text/plain": [
       "\" Use only below 'Context' and find the answer to the 'Question'. Be precise and to the point while answering.\\n    'Context: [Document(page_content='One day, while traveling through time, Juniper and her team stumbled upon a shocking discovery. They had been traveling through a fabricated reality created by an unknown entity. The reality they had known for so long was nothing more than a simulation.\\\\n\\\\nThis revelation shook Juniper and her team to the core. They had been living in a world of lies and deceit, but they refused to give up. They continued their journey through time, hoping to find a way to break free of the simulation and restore reality to its true form.\\\\n\\\\nAs they traveled further back in time, they discovered something even more disturbing. The entity that had created the simulation was none other than a future version of Juniper herself. She had traveled back in time to create the simulation and change the course of history.', metadata={'source': './state_of_the_union.txt'}), Document(page_content='But when Juniper presented her idea to the world, she was met with skepticism and disbelief. The leaders of the world saw time travel as a dangerous and unpredictable technology, and they feared the consequences of meddling with the past.\\\\n\\\\nDespite this opposition, Juniper refused to give up on her dream. She gathered a team of like-minded individuals, and they began working on the technology in secret. After months of tireless work, they finally succeeded. They had created a time machine.\\\\n\\\\nJuniper and her team embarked on a journey through time, visiting different eras and witnessing some of the most important events in history. But as they traveled further and further back in time, they began to realize that their actions were having unintended consequences. They were changing the course of history, and the world they knew was beginning to unravel.', metadata={'source': './state_of_the_union.txt'}), Document(page_content='Juniper realized that she had made a grave mistake. She had created the simulation to prevent a catastrophic event in the future, but in doing so, she had inadvertently caused it. She knew what she had to do. She had to sacrifice herself to set things right.\\\\n\\\\nJuniper and her team devised a plan to destroy the simulation and restore reality to its true form. They knew that the process would be dangerous and that they might not make it out alive. But they also knew that it was the only way to save humanity.\\\\n\\\\nThey activated the self-destruct sequence and watched as the simulation crumbled around them. They were thrown into a vortex of time and space, hurtling towards an unknown destination. When they finally emerged, they found themselves in a world they had never seen before.', metadata={'source': './state_of_the_union.txt'}), Document(page_content='The world was a barren wasteland, devoid of any signs of life. Juniper and her team had succeeded in destroying the simulation, but at a great cost. They had sacrificed everything they knew and loved to save humanity, but now they had to start all over again.\\\\n\\\\nJuniper and her team gathered their strength and began to rebuild the world. They knew that it would be a long and difficult journey, but they were determined to make it work. They had learned their lesson: the pursuit of knowledge and progress was worth the sacrifices it demanded.', metadata={'source': './state_of_the_union.txt'})]'\\n    'Question: Who is Juniper?'\""
      ]
     },
     "execution_count": 41,
     "metadata": {},
     "output_type": "execute_result"
    }
   ],
   "source": [
    "query_formatter(docs=docs, query=query)"
   ]
  },
  {
   "cell_type": "code",
   "execution_count": 42,
   "metadata": {},
   "outputs": [],
   "source": [
    "import requests\n",
    "import time\n",
    "\n",
    "url = 'https://www.quora.com/poe_api/gql_POST'\n",
    "\n",
    "headers = {\n",
    "    'Host': 'www.quora.com',\n",
    "    'Accept': '*/*',\n",
    "    'apollographql-client-version': '1.1.6-65',\n",
    "    'Accept-Language': 'en-US,en;q=0.9',\n",
    "    'User-Agent': 'Poe 1.1.6 rv:65 env:prod (iPhone14,2; iOS 16.2; en_US)',\n",
    "    'apollographql-client-name': 'com.quora.app.Experts-apollo-ios',\n",
    "    'Connection': 'keep-alive',\n",
    "    'Content-Type': 'application/json',\n",
    "}\n",
    "\n",
    "def set_auth(key, value):\n",
    "    headers[key] = value\n",
    "\n",
    "def load_chat_id_map(bot=\"a2\"):\n",
    "    data = {\n",
    "        'operationName': 'ChatViewQuery',\n",
    "        'query': 'query ChatViewQuery($bot: String!) {\\n  chatOfBot(bot: $bot) {\\n    __typename\\n    ...ChatFragment\\n  }\\n}\\nfragment ChatFragment on Chat {\\n  __typename\\n  id\\n  chatId\\n  defaultBotNickname\\n  shouldShowDisclaimer\\n}',\n",
    "        'variables': {\n",
    "            'bot': bot\n",
    "        }\n",
    "    }    \n",
    "    response = requests.post(url, headers=headers, json=data)\n",
    "    return response.json()['data']['chatOfBot']['chatId']\n",
    "\n",
    "def send_message(message,bot=\"a2\",chat_id=\"\"):\n",
    "    data = {\n",
    "    \"operationName\": \"AddHumanMessageMutation\",\n",
    "    \"query\": \"mutation AddHumanMessageMutation($chatId: BigInt!, $bot: String!, $query: String!, $source: MessageSource, $withChatBreak: Boolean! = false) {\\n  messageCreate(\\n    chatId: $chatId\\n    bot: $bot\\n    query: $query\\n    source: $source\\n    withChatBreak: $withChatBreak\\n  ) {\\n    __typename\\n    message {\\n      __typename\\n      ...MessageFragment\\n      chat {\\n        __typename\\n        id\\n        shouldShowDisclaimer\\n      }\\n    }\\n    chatBreak {\\n      __typename\\n      ...MessageFragment\\n    }\\n  }\\n}\\nfragment MessageFragment on Message {\\n  id\\n  __typename\\n  messageId\\n  text\\n  linkifiedText\\n  authorNickname\\n  state\\n  vote\\n  voteReason\\n  creationTime\\n  suggestedReplies\\n}\",\n",
    "    \"variables\": {\n",
    "        \"bot\": bot,\n",
    "        \"chatId\": chat_id,\n",
    "        \"query\": message,\n",
    "        \"source\": None,\n",
    "        \"withChatBreak\": False\n",
    "    }\n",
    "}\n",
    "    _ = requests.post(url, headers=headers, json=data)\n",
    "\n",
    "def clear_context(chatid):\n",
    "    data = {\n",
    "        \"operationName\": \"AddMessageBreakMutation\",\n",
    "        \"query\": \"mutation AddMessageBreakMutation($chatId: BigInt!) {\\n  messageBreakCreate(chatId: $chatId) {\\n    __typename\\n    message {\\n      __typename\\n      ...MessageFragment\\n    }\\n  }\\n}\\nfragment MessageFragment on Message {\\n  id\\n  __typename\\n  messageId\\n  text\\n  linkifiedText\\n  authorNickname\\n  state\\n  vote\\n  voteReason\\n  creationTime\\n  suggestedReplies\\n}\",\n",
    "        \"variables\": {\n",
    "            \"chatId\": chatid\n",
    "        }\n",
    "    }    \n",
    "    _ = requests.post(url, headers=headers, json=data)\n",
    "\n",
    "def get_latest_message(bot):\n",
    "    data = {\n",
    "        \"operationName\": \"ChatPaginationQuery\",\n",
    "        \"query\": \"query ChatPaginationQuery($bot: String!, $before: String, $last: Int! = 10) {\\n  chatOfBot(bot: $bot) {\\n    id\\n    __typename\\n    messagesConnection(before: $before, last: $last) {\\n      __typename\\n      pageInfo {\\n        __typename\\n        hasPreviousPage\\n      }\\n      edges {\\n        __typename\\n        node {\\n          __typename\\n          ...MessageFragment\\n        }\\n      }\\n    }\\n  }\\n}\\nfragment MessageFragment on Message {\\n  id\\n  __typename\\n  messageId\\n  text\\n  linkifiedText\\n  authorNickname\\n  state\\n  vote\\n  voteReason\\n  creationTime\\n}\",\n",
    "        \"variables\": {\n",
    "            \"before\": None,\n",
    "            \"bot\": bot,\n",
    "            \"last\": 1\n",
    "        }\n",
    "    } \n",
    "    author_nickname = \"\"\n",
    "    state = \"incomplete\"\n",
    "    while True:\n",
    "        time.sleep(2)\n",
    "        response = requests.post(url, headers=headers, json=data)\n",
    "        response_json = response.json()\n",
    "        text = response_json['data']['chatOfBot']['messagesConnection']['edges'][-1]['node']['text']\n",
    "        state = response_json['data']['chatOfBot']['messagesConnection']['edges'][-1]['node']['state']\n",
    "        author_nickname = response_json['data']['chatOfBot']['messagesConnection']['edges'][-1]['node']['authorNickname']\n",
    "        if author_nickname==bot and state=='complete':\n",
    "            break\n",
    "    return text\n"
   ]
  },
  {
   "cell_type": "code",
   "execution_count": 43,
   "metadata": {},
   "outputs": [
    {
     "name": "stdout",
     "output_type": "stream",
     "text": [
      "The selected bot is :  capybara\n",
      "Context is now cleared\n",
      "capybara : Juniper is a person who traveled through time with her team and discovered that they had been living in a simulated reality created by a future version of herself. She also created a time machine and traveled through different eras, but realized that their actions were having unintended consequences. Juniper sacrificed herself to destroy the simulation and restore reality to its true form, but the team ended up in a barren wasteland and had to rebuild the world.\n"
     ]
    }
   ],
   "source": [
    "#from POE import load_chat_id_map, clear_context, send_message, get_latest_message, set_auth\n",
    "\n",
    "#Auth\n",
    "set_auth('Quora-Formkey','f72407929b50a310a71f0bfab73594cc')\n",
    "set_auth('Cookie','m-b=fo4BP-aQf5SXPYGN7sDb3A==')\n",
    "#---------------------------------------------------------------------------\n",
    "# print(\"Who do you want to talk to?\")\n",
    "# print(\"1. Sage - OpenAI (capybara)\")\n",
    "# print(\"2. GPT-4 - OpenAI (beaver)\")\n",
    "# print(\"3. Claude+ - Anthropic (a2_2)\")\n",
    "# print(\"4. Claude - Anthropic (a2)\")\n",
    "# print(\"5. ChatGPT - OpenAI (chinchilla)\")\n",
    "# print(\"6. Dragonfly - OpenAI (nutria)\")\n",
    "#---------------------------------------------------------------------------\n",
    "# option = input(\"Please enter your choice : \")\n",
    "bots = {1:'capybara', 2:'beaver', 3:'a2_2', 4:'a2', 5:'chinchilla', 6:'nutria'}\n",
    "bot = bots[int(1)]\n",
    "print(\"The selected bot is : \", bot)\n",
    "#---------------------------------------------------------------------------\n",
    "chat_id = load_chat_id_map(bot)\n",
    "clear_context(chat_id)\n",
    "print(\"Context is now cleared\")\n",
    "\n",
    "message = query_formatter(docs=docs, query=query)\n",
    "send_message(message,bot,chat_id)\n",
    "reply = get_latest_message(bot)\n",
    "print(f\"{bot} : {reply}\")\n",
    "\n",
    "# while True:\n",
    "#     message = input(\"Human : \")\n",
    "#     if message ==\"!clear\":\n",
    "#         clear_context(chat_id)\n",
    "#         print(\"Context is now cleared\")\n",
    "#         continue\n",
    "#     if message ==\"!break\":\n",
    "#         break\n",
    "#     send_message(message,bot,chat_id)\n",
    "#     reply = get_latest_message(bot)\n",
    "#     print(f\"{bot} : {reply}\")"
   ]
  }
 ],
 "metadata": {
  "kernelspec": {
   "display_name": "Python 3",
   "language": "python",
   "name": "python3"
  },
  "language_info": {
   "codemirror_mode": {
    "name": "ipython",
    "version": 3
   },
   "file_extension": ".py",
   "mimetype": "text/x-python",
   "name": "python",
   "nbconvert_exporter": "python",
   "pygments_lexer": "ipython3",
   "version": "3.10.4"
  },
  "orig_nbformat": 4
 },
 "nbformat": 4,
 "nbformat_minor": 2
}
